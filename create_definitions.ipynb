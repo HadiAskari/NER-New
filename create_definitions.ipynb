{
 "cells": [
  {
   "cell_type": "code",
   "execution_count": 8,
   "metadata": {},
   "outputs": [],
   "source": [
    "import pandas as pd\n",
    "import pickle as pkl\n",
    "from ast import literal_eval"
   ]
  },
  {
   "cell_type": "code",
   "execution_count": 3,
   "metadata": {},
   "outputs": [],
   "source": [
    "df=pd.read_csv('test_dataset.csv')"
   ]
  },
  {
   "cell_type": "code",
   "execution_count": 5,
   "metadata": {},
   "outputs": [],
   "source": [
    "check=df['entity_types'].to_list()"
   ]
  },
  {
   "cell_type": "code",
   "execution_count": 21,
   "metadata": {},
   "outputs": [],
   "source": [
    "list_of_entities=[]\n",
    "for item in check:\n",
    "    mini_list=literal_eval(item)\n",
    "    # print(mini_list)\n",
    "    for new_item in mini_list:\n",
    "        list_of_entities.append(new_item)\n",
    "        \n",
    "\n",
    "list_of_entities=list(set(list_of_entities))"
   ]
  },
  {
   "cell_type": "code",
   "execution_count": 22,
   "metadata": {},
   "outputs": [
    {
     "data": {
      "text/plain": [
       "['Library',\n",
       " 'Language',\n",
       " 'General_Concept',\n",
       " 'License',\n",
       " 'Architecture',\n",
       " 'Algorithm',\n",
       " 'Device',\n",
       " 'Protocol',\n",
       " 'Operating_System',\n",
       " 'Error_Name',\n",
       " 'Data_Structure',\n",
       " 'Application']"
      ]
     },
     "execution_count": 22,
     "metadata": {},
     "output_type": "execute_result"
    }
   ],
   "source": [
    "list_of_entities"
   ]
  }
 ],
 "metadata": {
  "kernelspec": {
   "display_name": "pytorch",
   "language": "python",
   "name": "python3"
  },
  "language_info": {
   "codemirror_mode": {
    "name": "ipython",
    "version": 3
   },
   "file_extension": ".py",
   "mimetype": "text/x-python",
   "name": "python",
   "nbconvert_exporter": "python",
   "pygments_lexer": "ipython3",
   "version": "3.10.12"
  }
 },
 "nbformat": 4,
 "nbformat_minor": 2
}
