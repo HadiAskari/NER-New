{
 "cells": [
  {
   "cell_type": "code",
   "execution_count": 1,
   "metadata": {},
   "outputs": [],
   "source": [
    "from transformers import AutoTokenizer, AutoModelForTokenClassification\n",
    "from transformers import pipeline"
   ]
  },
  {
   "cell_type": "code",
   "execution_count": 12,
   "metadata": {},
   "outputs": [
    {
     "name": "stdout",
     "output_type": "stream",
     "text": [
      "[{'entity': 'B-Operating_System', 'score': 0.98201984, 'index': 1, 'word': 'Mac', 'start': 0, 'end': 3}, {'entity': 'I-Operating_System', 'score': 0.9935452, 'index': 2, 'word': 'OS', 'start': 4, 'end': 6}, {'entity': 'I-Operating_System', 'score': 0.99431026, 'index': 3, 'word': 'X', 'start': 7, 'end': 8}, {'entity': 'I-Operating_System', 'score': 0.9899013, 'index': 4, 'word': 'v', 'start': 9, 'end': 10}, {'entity': 'I-Operating_System', 'score': 0.99533844, 'index': 5, 'word': '##10', 'start': 10, 'end': 12}, {'entity': 'I-Operating_System', 'score': 0.9934901, 'index': 6, 'word': '.', 'start': 12, 'end': 13}, {'entity': 'I-Operating_System', 'score': 0.9746095, 'index': 7, 'word': '3', 'start': 13, 'end': 14}]\n"
     ]
    }
   ],
   "source": [
    "tokenizer = AutoTokenizer.from_pretrained(\"taidng/wikiser-bert-large\")\n",
    "model = AutoModelForTokenClassification.from_pretrained(\"taidng/wikiser-bert-large\")\n",
    "\n",
    "nlp = pipeline(\"ner\", model=model, tokenizer=tokenizer, device=0)\n",
    "example = \"Mac OS X v10.3\"\n",
    "\n",
    "ner_results = nlp(example)\n",
    "print(ner_results)"
   ]
  },
  {
   "cell_type": "code",
   "execution_count": 16,
   "metadata": {},
   "outputs": [
    {
     "name": "stdout",
     "output_type": "stream",
     "text": [
      "[{'entity': 'B-Error_Name', 'score': 0.8184051, 'index': 2, 'word': 'has', 'start': 5, 'end': 8}, {'entity': 'B-Protocol', 'score': 0.9832424, 'index': 6, 'word': 'IP', 'start': 21, 'end': 23}, {'entity': 'I-Protocol', 'score': 0.98363644, 'index': 7, 'word': 'address', 'start': 24, 'end': 31}, {'entity': 'B-Protocol', 'score': 0.8584288, 'index': 13, 'word': 'client', 'start': 51, 'end': 57}, {'entity': 'B-Protocol', 'score': 0.9494719, 'index': 16, 'word': 'host', 'start': 61, 'end': 65}, {'entity': 'B-Protocol', 'score': 0.96429884, 'index': 28, 'word': 'I', 'start': 113, 'end': 114}, {'entity': 'B-Protocol', 'score': 0.5037251, 'index': 29, 'word': '##RC', 'start': 114, 'end': 116}, {'entity': 'I-Protocol', 'score': 0.5631525, 'index': 30, 'word': '##ops', 'start': 116, 'end': 119}]\n",
      "RC\n",
      "ops\n",
      "['has', 'IP address', 'client', 'host', 'IRCops']\n"
     ]
    }
   ],
   "source": [
    "tokenizer = AutoTokenizer.from_pretrained(\"taidng/wikiser-bert-large\")\n",
    "model = AutoModelForTokenClassification.from_pretrained(\"taidng/wikiser-bert-large\")\n",
    "\n",
    "nlp = pipeline(\"ner\", model=model, tokenizer=tokenizer, device=0)\n",
    "example = \"This hashes a client IP address or masks part of a client 's hostname , making it unreadable to users other than IRCops .\"\n",
    "\n",
    "ner_results = nlp(example)\n",
    "print(ner_results)\n",
    "words=[]\n",
    "for k,ent in enumerate(ner_results):\n",
    "    if k==0:\n",
    "        words.append(ent['word'])\n",
    "    elif ent['entity'].startswith('B-') and k!=0 and not ent['word'].startswith('#'):\n",
    "        words.append(ent['word'])\n",
    "    else:\n",
    "        if ent['word'].startswith('#'):\n",
    "            temp=ent['word'].strip('#')\n",
    "            print(temp)\n",
    "            words[-1]=words[-1] + \"\" + temp\n",
    "        else:\n",
    "            words[-1]=words[-1] + \" \" + ent['word']\n",
    "\n",
    "print(words)\n"
   ]
  },
  {
   "cell_type": "code",
   "execution_count": null,
   "metadata": {},
   "outputs": [],
   "source": []
  }
 ],
 "metadata": {
  "kernelspec": {
   "display_name": "ner",
   "language": "python",
   "name": "python3"
  },
  "language_info": {
   "codemirror_mode": {
    "name": "ipython",
    "version": 3
   },
   "file_extension": ".py",
   "mimetype": "text/x-python",
   "name": "python",
   "nbconvert_exporter": "python",
   "pygments_lexer": "ipython3",
   "version": "3.10.12"
  }
 },
 "nbformat": 4,
 "nbformat_minor": 2
}
